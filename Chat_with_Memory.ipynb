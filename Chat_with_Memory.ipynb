{
  "nbformat": 4,
  "nbformat_minor": 0,
  "metadata": {
    "colab": {
      "provenance": [],
      "gpuType": "T4"
    },
    "kernelspec": {
      "name": "python3",
      "display_name": "Python 3"
    },
    "language_info": {
      "name": "python"
    },
    "accelerator": "GPU"
  },
  "cells": [
    {
      "cell_type": "code",
      "execution_count": 1,
      "metadata": {
        "id": "Y6_5fp7PtMCi",
        "colab": {
          "base_uri": "https://localhost:8080/"
        },
        "outputId": "0a3b96fa-4acc-4177-d302-96f59421ca12"
      },
      "outputs": [
        {
          "output_type": "stream",
          "name": "stdout",
          "text": [
            "\u001b[?25l   \u001b[90m━━━━━━━━━━━━━━━━━━━━━━━━━━━━━━━━━━━━━━━━\u001b[0m \u001b[32m0.0/2.5 MB\u001b[0m \u001b[31m?\u001b[0m eta \u001b[36m-:--:--\u001b[0m\r\u001b[2K   \u001b[91m━━━━━━━━━━━━━━━━━━━━━━\u001b[0m\u001b[91m╸\u001b[0m\u001b[90m━━━━━━━━━━━━━━━━━\u001b[0m \u001b[32m1.4/2.5 MB\u001b[0m \u001b[31m42.8 MB/s\u001b[0m eta \u001b[36m0:00:01\u001b[0m\r\u001b[2K   \u001b[90m━━━━━━━━━━━━━━━━━━━━━━━━━━━━━━━━━━━━━━━━\u001b[0m \u001b[32m2.5/2.5 MB\u001b[0m \u001b[31m37.1 MB/s\u001b[0m eta \u001b[36m0:00:00\u001b[0m\n",
            "\u001b[2K   \u001b[90m━━━━━━━━━━━━━━━━━━━━━━━━━━━━━━━━━━━━━━━━\u001b[0m \u001b[32m41.7/41.7 kB\u001b[0m \u001b[31m3.0 MB/s\u001b[0m eta \u001b[36m0:00:00\u001b[0m\n",
            "\u001b[2K   \u001b[90m━━━━━━━━━━━━━━━━━━━━━━━━━━━━━━━━━━━━━━━━\u001b[0m \u001b[32m50.9/50.9 kB\u001b[0m \u001b[31m4.4 MB/s\u001b[0m eta \u001b[36m0:00:00\u001b[0m\n",
            "\u001b[?25h"
          ]
        }
      ],
      "source": [
        "!pip install -q langchain langchain-community langchain-google-genai"
      ]
    },
    {
      "cell_type": "code",
      "source": [
        "from langchain_core.prompts import ChatPromptTemplate, HumanMessagePromptTemplate\n",
        "from langchain_core.messages import SystemMessage, HumanMessage\n",
        "from langchain_core.prompts.chat import MessagesPlaceholder\n",
        "from langchain_google_genai import ChatGoogleGenerativeAI\n",
        "from langchain_core.output_parsers import StrOutputParser\n",
        "from langchain_core.chat_history import InMemoryChatMessageHistory\n",
        "import os\n",
        "import getpass"
      ],
      "metadata": {
        "id": "hYyF4tQtqgft"
      },
      "execution_count": 25,
      "outputs": []
    },
    {
      "cell_type": "code",
      "source": [
        "if \"GOOGLE_API_KEY\" not in os.environ:\n",
        "    os.environ[\"GOOGLE_API_KEY\"] = getpass.getpass(\"Enter your Google AI API key: \")"
      ],
      "metadata": {
        "colab": {
          "base_uri": "https://localhost:8080/"
        },
        "id": "GQ1SWjLmQ4kF",
        "outputId": "92395093-4157-4a3f-ad2b-bb7137b0ad10"
      },
      "execution_count": 3,
      "outputs": [
        {
          "name": "stdout",
          "output_type": "stream",
          "text": [
            "Enter your Google AI API key: ··········\n"
          ]
        }
      ]
    },
    {
      "cell_type": "code",
      "source": [
        "chat_model = ChatGoogleGenerativeAI(model=\"gemini-1.5-pro\")  # Use 'gemini-pro' as the model"
      ],
      "metadata": {
        "id": "_-XEkR-9Q-2j"
      },
      "execution_count": 4,
      "outputs": []
    },
    {
      "cell_type": "code",
      "source": [
        "chat_prompt_template = ChatPromptTemplate.from_messages([\n",
        "    # SystemMessage(content=\"You are a language Translator. Answer all questions in Persian.\"),\n",
        "    SystemMessage(content=\"You are a helpful assistant. Answer all questions in Persian.\"),\n",
        "    MessagesPlaceholder(\"history\"),\n",
        "    # MessagesPlaceholder(\"history\", optional=True), #Make it optional\n",
        "    # HumanMessagePromptTemplate.from_template(\"{question}\")\n",
        "])"
      ],
      "metadata": {
        "id": "7tLIS1HyquBd"
      },
      "execution_count": 24,
      "outputs": []
    },
    {
      "cell_type": "code",
      "source": [
        "parser = StrOutputParser()\n",
        "chain = chat_prompt_template | chat_model | parser\n",
        "\n",
        "conversation_history = []\n",
        "\n",
        "user_query = input(\"Ask anything to get Answer in Persian or type 'exit' to end: \")\n",
        "\n",
        "while(user_query.lower() != 'exit'):\n",
        "  new_message = (\"human\", user_query)\n",
        "  conversation_history.append(new_message)\n",
        "\n",
        "  response = chain.invoke({\"history\": conversation_history})\n",
        "\n",
        "  new_model_message = (\"ai\", response)\n",
        "  conversation_history.append(new_model_message)\n",
        "\n",
        "  print(response)\n",
        "\n",
        "  user_query = input(\"Ask anything to get Answer in Persian or type 'exit' to end: \")\n",
        "\n"
      ],
      "metadata": {
        "colab": {
          "base_uri": "https://localhost:8080/"
        },
        "id": "3nQY3i5Dr0S2",
        "outputId": "61c0ff5b-40d0-435c-da2a-0de1dba86295"
      },
      "execution_count": 8,
      "outputs": [
        {
          "name": "stdout",
          "output_type": "stream",
          "text": [
            "Ask anything to get Answer in Persian or type 'exit' to end: I love programming\n",
            "من عاشق برنامه‌نویسی هستم (man ashegh barname nevisi hastam)\n",
            "Ask anything to get Answer in Persian or type 'exit' to end: what did I ask first?\n",
            "شما ابتدا گفتید: «من عاشق برنامه‌نویسی هستم» (Shoma ebteda goftid: \"Man ashegh barname nevisi hastam\")\n",
            "Ask anything to get Answer in Persian or type 'exit' to end: where is iran?\n",
            "ایران در غرب آسیا واقع شده است. (Iran dar gharb-e Asia vaghe' shode ast.)\n",
            "Ask anything to get Answer in Persian or type 'exit' to end: what was my second context?\n",
            "دومین چیزی که پرسیدید این بود: «چیزی که اول پرسیدم چی بود؟»  (Dovomin chizi ke porsidid in bud: \"Chizi ke aval porsidam chi bud?\")\n",
            "Ask anything to get Answer in Persian or type 'exit' to end: what was my third context?\n",
            "سومین سوالتان این بود: «ایران کجاست؟» (Sevvomin soaletan in bud: \"Iran kojast?\")\n",
            "Ask anything to get Answer in Persian or type 'exit' to end: where is norway?\n",
            "نروژ در شمال اروپا واقع شده است. (Norvezh dar shomal-e Europa vaghe' shode ast.)\n",
            "Ask anything to get Answer in Persian or type 'exit' to end: exit\n"
          ]
        }
      ]
    },
    {
      "cell_type": "code",
      "source": [
        "parser = StrOutputParser()\n",
        "chain = chat_prompt_template | chat_model | parser\n",
        "\n",
        "conversation_history = []\n",
        "\n",
        "user_query = input(\"Ask anything to get Answer in Persian or type 'exit' to end: \")\n",
        "\n",
        "while(user_query.lower() != 'exit'):\n",
        "  new_message = (\"human\", user_query)\n",
        "  conversation_history.append(new_message)\n",
        "\n",
        "  response = chain.invoke({\"history\": conversation_history})\n",
        "\n",
        "  new_model_message = (\"ai\", response)\n",
        "  conversation_history.append(new_model_message)\n",
        "\n",
        "  print(response)\n",
        "\n",
        "  user_query = input(\"Ask anything to get Answer in Persian or type 'exit' to end: \")"
      ],
      "metadata": {
        "colab": {
          "base_uri": "https://localhost:8080/"
        },
        "id": "EM7H5KK3V9hU",
        "outputId": "0053c7e4-aaed-4d99-f5e2-b5927cdd8fa8"
      },
      "execution_count": 12,
      "outputs": [
        {
          "name": "stdout",
          "output_type": "stream",
          "text": [
            "Ask anything to get Answer in Persian or type 'exit' to end: I love programming\n",
            "عالیه! برنامه‌نویسی خیلی جذابه.  به نظرم ادامه‌ش بدی کلی چیزای جدید یاد می‌گیری و می‌تونی کارهای خیلی خفنی انجام بدی.  😊\n",
            "Ask anything to get Answer in Persian or type 'exit' to end: which programming language is fastest in web development?\n",
            "سوال خیلی خوبیه!  \"سریع‌ترین\" توی توسعه وب یه مقدار پیچیده‌ست و بستگی به عوامل مختلفی داره.  هیچ زبان واحدی وجود نداره که بتونیم بگیم توی همه موارد از همه سریع‌تره.  به طور کلی میشه اینجوری بررسیش کرد:\n",
            "\n",
            "* **جاوا اسکریپت (JavaScript):**  با توجه به اینکه سمت کلاینت اجرا میشه و نیازی به ارتباط با سرور برای هر عملی نداره،  برای خیلی از کارها سرعت بالایی داره.  به علاوه، فریم‌ورک‌هایی مثل React, Vue و Angular به توسعه سریع‌تر و بهینه‌تر کمک می‌کنن.\n",
            "\n",
            "* **WebAssembly (Wasm):**  این یه فرمت کد باینریه که می‌تونه توی مرورگر اجرا بشه.  به خاطر نزدیکی به زبان ماشین، پتانسیل خیلی بالایی برای سرعت داره،  خصوصاً برای کارهای سنگین محاسباتی.  اما هنوز در حال توسعه‌ست و به راحتی جاوا اسکریپت قابل استفاده نیست.\n",
            "\n",
            "* **Python (با فریم‌ورک‌هایی مثل Django و Flask):**  پایتون به خاطر سادگی و سرعت توسعه،  میتونه برای ساخت سریع prototype و MVP خیلی مفید باشه.  اما در مقایسه با زبان‌های کامپایل شده،  معمولاً سرعت اجرای کمتری داره.  البته  با استفاده از کتابخانه‌ها و تکنیک‌های بهینه‌سازی،  میشه سرعتش رو بهبود بخشید.\n",
            "\n",
            "* **Go:**  گو یه زبان کامپایل شده‌ست که سرعت بالایی داره و برای توسعه backend  مناسبه.  به خاطر سادگی و کارایی،  برای پروژه‌های وب با ترافیک بالا گزینه خوبیه.\n",
            "\n",
            "* **Java:**  جاوا هم یه زبان کامپایل شده‌ست و عملکرد قوی داره.  برای پروژه‌های بزرگ و پیچیده وب  مناسب هست  اما  ممکنه سرعت توسعه به اندازه  پایتون یا جاوا اسکریپت بالا نباشه.\n",
            "\n",
            "در نهایت،  \"سریع‌ترین\" زبان به نوع پروژه،  مهارت تیم،  و بهینه‌سازی کد بستگی داره.  بهتره  با توجه به نیازهای پروژه‌تون  و  تجربه تیم  زبان مناسب رو انتخاب کنید.\n",
            "Ask anything to get Answer in Persian or type 'exit' to end: what did i ask in second step?\n",
            "در مرحله دوم پرسیدید: کدام زبان برنامه نویسی در توسعه وب سریعترین است؟ (which programming language is fastest in web development?)\n",
            "Ask anything to get Answer in Persian or type 'exit' to end: exit\n"
          ]
        }
      ]
    },
    {
      "cell_type": "code",
      "source": [
        "chat_prompt_template.format_messages()"
      ],
      "metadata": {
        "colab": {
          "base_uri": "https://localhost:8080/"
        },
        "id": "qk1VZv5ZYBnc",
        "outputId": "140a2f21-b31e-4672-ffe6-eba63f3e56cf"
      },
      "execution_count": 23,
      "outputs": [
        {
          "output_type": "execute_result",
          "data": {
            "text/plain": [
              "[SystemMessage(content='You are a helpful assistant. Answer all questions in Persian.', additional_kwargs={}, response_metadata={})]"
            ]
          },
          "metadata": {},
          "execution_count": 23
        }
      ]
    },
    {
      "cell_type": "code",
      "source": [
        "chat_prompt_template.format_messages(history=[(\"human\", \"What is 5 + 2?\"), (\"ai\", \"5 + 2 is 7\")], question=\"now multiply by 4\")"
      ],
      "metadata": {
        "colab": {
          "base_uri": "https://localhost:8080/"
        },
        "id": "v5Uii0rPY2wN",
        "outputId": "b95e652c-d892-4092-fbce-1b6d1717f2f0"
      },
      "execution_count": 20,
      "outputs": [
        {
          "output_type": "execute_result",
          "data": {
            "text/plain": [
              "[SystemMessage(content='You are a helpful assistant. Answer all questions in Persian.', additional_kwargs={}, response_metadata={}),\n",
              " HumanMessage(content='What is 5 + 2?', additional_kwargs={}, response_metadata={}),\n",
              " AIMessage(content='5 + 2 is 7', additional_kwargs={}, response_metadata={}),\n",
              " HumanMessage(content='now multiply by 4', additional_kwargs={}, response_metadata={})]"
            ]
          },
          "metadata": {},
          "execution_count": 20
        }
      ]
    },
    {
      "cell_type": "code",
      "source": [
        "print(chat_prompt_template.invoke({\"history\": [(\"human\", \"What is 5 + 2?\"), (\"ai\", \"5 + 2 is 7\")], \"question\": \"now multiply by 4\"}))"
      ],
      "metadata": {
        "colab": {
          "base_uri": "https://localhost:8080/"
        },
        "id": "2Nh7cjWpZexU",
        "outputId": "2a235dbe-9627-4318-a14b-e35668b736dc"
      },
      "execution_count": 19,
      "outputs": [
        {
          "output_type": "stream",
          "name": "stdout",
          "text": [
            "messages=[SystemMessage(content='You are a helpful assistant. Answer all questions in Persian.', additional_kwargs={}, response_metadata={}), HumanMessage(content='What is 5 + 2?', additional_kwargs={}, response_metadata={}), AIMessage(content='5 + 2 is 7', additional_kwargs={}, response_metadata={}), HumanMessage(content='now multiply by 4', additional_kwargs={}, response_metadata={})]\n"
          ]
        }
      ]
    },
    {
      "cell_type": "markdown",
      "source": [
        "**Chat Memory Class**"
      ],
      "metadata": {
        "id": "QAOkrr2NbNzk"
      }
    },
    {
      "cell_type": "code",
      "source": [
        "parser = StrOutputParser()\n",
        "chain = chat_prompt_template | chat_model | parser\n",
        "\n",
        "chat_history = InMemoryChatMessageHistory()\n",
        "\n",
        "user_query = input(\"Ask anything to get Answer in Persian or type 'exit' to end: \")\n",
        "\n",
        "while(user_query.lower() != 'exit'):\n",
        "\n",
        "  chat_history.add_user_message(user_query)\n",
        "\n",
        "  response = chain.invoke({\"history\": chat_history.messages})\n",
        "\n",
        "  chat_history.add_ai_message(response)\n",
        "\n",
        "  print(response)\n",
        "\n",
        "  user_query = input(\"Ask anything to get Answer in Persian or type 'exit' to end: \")"
      ],
      "metadata": {
        "colab": {
          "base_uri": "https://localhost:8080/"
        },
        "id": "pz0Vy7M8bR0s",
        "outputId": "57deac56-d992-4390-81c0-9c8771d1928d"
      },
      "execution_count": 26,
      "outputs": [
        {
          "name": "stdout",
          "output_type": "stream",
          "text": [
            "Ask anything to get Answer in Persian or type 'exit' to end: hi\n",
            "سلام!\n",
            "Ask anything to get Answer in Persian or type 'exit' to end: what is date today?\n",
            "امروز چه تاریخی است؟  بستگی به منطقه زمانی شما دارد. لطفاً منطقه زمانی خود را بگویید تا تاریخ دقیق را به شما بگویم.\n",
            "Ask anything to get Answer in Persian or type 'exit' to end: what did i ask before?\n",
            "شما قبلا پرسیدید که \"امروز چه تاریخی است؟\"\n",
            "Ask anything to get Answer in Persian or type 'exit' to end: where is france?\n",
            "فرانسه در اروپای غربی واقع شده است.\n",
            "Ask anything to get Answer in Persian or type 'exit' to end: exit\n"
          ]
        }
      ]
    }
  ]
}