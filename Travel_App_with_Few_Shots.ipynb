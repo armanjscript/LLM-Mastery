{
  "nbformat": 4,
  "nbformat_minor": 0,
  "metadata": {
    "colab": {
      "provenance": [],
      "gpuType": "T4"
    },
    "kernelspec": {
      "name": "python3",
      "display_name": "Python 3"
    },
    "language_info": {
      "name": "python"
    },
    "accelerator": "GPU"
  },
  "cells": [
    {
      "cell_type": "code",
      "execution_count": 1,
      "metadata": {
        "id": "Y6_5fp7PtMCi",
        "colab": {
          "base_uri": "https://localhost:8080/"
        },
        "outputId": "8f044f22-f0d9-4412-8e51-acee610c1882"
      },
      "outputs": [
        {
          "output_type": "stream",
          "name": "stdout",
          "text": [
            "\u001b[?25l   \u001b[90m━━━━━━━━━━━━━━━━━━━━━━━━━━━━━━━━━━━━━━━━\u001b[0m \u001b[32m0.0/2.5 MB\u001b[0m \u001b[31m?\u001b[0m eta \u001b[36m-:--:--\u001b[0m\r\u001b[2K   \u001b[91m━━━━━━━━━━━━━━━━━━━━━━━━━━━━━━\u001b[0m\u001b[90m╺\u001b[0m\u001b[90m━━━━━━━━━\u001b[0m \u001b[32m1.9/2.5 MB\u001b[0m \u001b[31m56.3 MB/s\u001b[0m eta \u001b[36m0:00:01\u001b[0m\r\u001b[2K   \u001b[90m━━━━━━━━━━━━━━━━━━━━━━━━━━━━━━━━━━━━━━━━\u001b[0m \u001b[32m2.5/2.5 MB\u001b[0m \u001b[31m42.6 MB/s\u001b[0m eta \u001b[36m0:00:00\u001b[0m\n",
            "\u001b[?25h\u001b[?25l   \u001b[90m━━━━━━━━━━━━━━━━━━━━━━━━━━━━━━━━━━━━━━━━\u001b[0m \u001b[32m0.0/41.7 kB\u001b[0m \u001b[31m?\u001b[0m eta \u001b[36m-:--:--\u001b[0m\r\u001b[2K   \u001b[90m━━━━━━━━━━━━━━━━━━━━━━━━━━━━━━━━━━━━━━━━\u001b[0m \u001b[32m41.7/41.7 kB\u001b[0m \u001b[31m3.0 MB/s\u001b[0m eta \u001b[36m0:00:00\u001b[0m\n",
            "\u001b[?25h\u001b[?25l   \u001b[90m━━━━━━━━━━━━━━━━━━━━━━━━━━━━━━━━━━━━━━━━\u001b[0m \u001b[32m0.0/50.8 kB\u001b[0m \u001b[31m?\u001b[0m eta \u001b[36m-:--:--\u001b[0m\r\u001b[2K   \u001b[90m━━━━━━━━━━━━━━━━━━━━━━━━━━━━━━━━━━━━━━━━\u001b[0m \u001b[32m50.8/50.8 kB\u001b[0m \u001b[31m4.0 MB/s\u001b[0m eta \u001b[36m0:00:00\u001b[0m\n",
            "\u001b[?25h"
          ]
        }
      ],
      "source": [
        "# Step 1: Install required libraries\n",
        "!pip install -q langchain langchain-community langchain-google-genai google-generativeai"
      ]
    },
    {
      "cell_type": "code",
      "source": [
        "# Step 2: Import necessary modules\n",
        "from langchain_google_genai import ChatGoogleGenerativeAI\n",
        "from langchain_core.prompts import (\n",
        "    SystemMessagePromptTemplate,\n",
        "    HumanMessagePromptTemplate,\n",
        "    ChatPromptTemplate,\n",
        "    FewShotChatMessagePromptTemplate,\n",
        "    PromptTemplate,\n",
        "    AIMessagePromptTemplate\n",
        ")\n",
        "from langchain_core.output_parsers import StrOutputParser\n",
        "import os\n",
        "import getpass"
      ],
      "metadata": {
        "id": "_slq5F84viN5"
      },
      "execution_count": 43,
      "outputs": []
    },
    {
      "cell_type": "code",
      "source": [
        "# Step 3: Set up your Google API key\n",
        "if \"GOOGLE_API_KEY\" not in os.environ:\n",
        "    os.environ[\"GOOGLE_API_KEY\"] = getpass.getpass(\"Enter your Google AI API key: \")"
      ],
      "metadata": {
        "id": "3KNbDJfXvmiA",
        "colab": {
          "base_uri": "https://localhost:8080/"
        },
        "outputId": "a379468a-f176-4662-f610-378777d3b7fa"
      },
      "execution_count": 3,
      "outputs": [
        {
          "name": "stdout",
          "output_type": "stream",
          "text": [
            "Enter your Google AI API key: ··········\n"
          ]
        }
      ]
    },
    {
      "cell_type": "code",
      "source": [
        "# Step 4: Initialize the Gemini model\n",
        "chat_model = ChatGoogleGenerativeAI(model=\"gemini-1.5-pro\")  # Use 'gemini-pro' as the model"
      ],
      "metadata": {
        "id": "9AK0cv9oBWrj"
      },
      "execution_count": 4,
      "outputs": []
    },
    {
      "cell_type": "code",
      "source": [
        "example_prompt = ChatPromptTemplate.from_messages([\n",
        "    HumanMessagePromptTemplate.from_template(\"{question}\"),\n",
        "    AIMessagePromptTemplate.from_template(\"{answer}\")\n",
        "])"
      ],
      "metadata": {
        "id": "dRVtZAfSk66x"
      },
      "execution_count": 44,
      "outputs": []
    },
    {
      "cell_type": "code",
      "source": [
        "examples = [\n",
        "    {\n",
        "        \"question\": \"How to get from Isfahan to Tehran?\",\n",
        "        \"answer\": \"\"\"\n",
        "        option 1: mode=bus, min_time_in_min=360 max_time_in_min=390 description=Take bus from Kaveh Terminal.\n",
        "        option 2: mode=plane min_time_in_min=60 max_time_in_min=70 description=Take plane from Iran Air, Mahan Air or Zagros Air.\n",
        "        option 3: mode=taxi min_time_in_min=330 max_time_in_min=360 description=Take private taxi using Snapp.\n",
        "        \"\"\"\n",
        "    },\n",
        "    {\n",
        "        \"question\": \"How to get from Shiraz to Isfahan?\",\n",
        "        \"answer\": \"\"\"\n",
        "        option 1: mode=bus, min_time_in_min=360 max_time_in_min=390 description=Take bus from Karandish Terminal.\n",
        "        option 2: mode=plane min_time_in_min=75 max_time_in_min=90 description=Take plane from Iran Air.\n",
        "        option 3: mode=taxi min_time_in_min=320 max_time_in_min=350 description=Take private taxi using Snapp.\n",
        "        \"\"\"\n",
        "    },\n",
        "]"
      ],
      "metadata": {
        "id": "1CwL44Wsp7j5"
      },
      "execution_count": 45,
      "outputs": []
    },
    {
      "cell_type": "code",
      "source": [
        "fewshot_prompt_template = FewShotChatMessagePromptTemplate(\n",
        "    examples=examples,\n",
        "    example_prompt=example_prompt,\n",
        "    input_variables=[\"question\"]\n",
        ")"
      ],
      "metadata": {
        "id": "FyYW7x1Lislp"
      },
      "execution_count": 46,
      "outputs": []
    },
    {
      "cell_type": "code",
      "source": [
        "system_prompt_template = PromptTemplate(\n",
        "    template = \"You are a travel expert helping to find efficient and comfortable way of travelling from point A to point B.\"\n",
        ")\n",
        "\n",
        "system_message_template = SystemMessagePromptTemplate(prompt=system_prompt_template)"
      ],
      "metadata": {
        "id": "aPZEXRWMXihZ"
      },
      "execution_count": 47,
      "outputs": []
    },
    {
      "cell_type": "code",
      "source": [
        "user_prompt_template = PromptTemplate(\n",
        "    template = \"how to reach {target} from {source}?\",\n",
        "    input_variables=[\"target\", \"source\"]\n",
        ")\n",
        "\n",
        "user_message_template = HumanMessagePromptTemplate(prompt=user_prompt_template)"
      ],
      "metadata": {
        "id": "aUwWflz0Gmfb"
      },
      "execution_count": 48,
      "outputs": []
    },
    {
      "cell_type": "code",
      "source": [
        "chat_prompt_template_with_fewshot = ChatPromptTemplate.from_messages([\n",
        "    system_message_template,\n",
        "    fewshot_prompt_template,\n",
        "    user_message_template\n",
        "])"
      ],
      "metadata": {
        "id": "9oVXmVZBPxIB"
      },
      "execution_count": 49,
      "outputs": []
    },
    {
      "cell_type": "code",
      "source": [
        "user_input_source = \"Tehran\" # @param{type: \"string\"}"
      ],
      "metadata": {
        "id": "cvCa9QnpLEBH"
      },
      "execution_count": 50,
      "outputs": []
    },
    {
      "cell_type": "code",
      "source": [
        "user_input_target = \"Yazd\" # @param{type: \"string\"}"
      ],
      "metadata": {
        "id": "_rYKKSm_LoAf"
      },
      "execution_count": 51,
      "outputs": []
    },
    {
      "cell_type": "code",
      "source": [
        "messages = chat_prompt_template_with_fewshot.format_messages(target=user_input_target, source=user_input_source)"
      ],
      "metadata": {
        "id": "uMDwHl6pQl5Z"
      },
      "execution_count": 52,
      "outputs": []
    },
    {
      "cell_type": "code",
      "source": [
        "chat_model_response= chat_model.invoke(messages)"
      ],
      "metadata": {
        "id": "4ibcbxwvR91q"
      },
      "execution_count": 53,
      "outputs": []
    },
    {
      "cell_type": "code",
      "source": [
        "parser = StrOutputParser()\n",
        "response = parser.invoke(chat_model_response)"
      ],
      "metadata": {
        "id": "bsW9cnRaOK_5"
      },
      "execution_count": 54,
      "outputs": []
    },
    {
      "cell_type": "code",
      "source": [
        "print(response)"
      ],
      "metadata": {
        "colab": {
          "base_uri": "https://localhost:8080/"
        },
        "id": "ZJErz7V6SHcw",
        "outputId": "78225076-73e7-4a01-df48-b4751f96ec35"
      },
      "execution_count": 55,
      "outputs": [
        {
          "output_type": "stream",
          "name": "stdout",
          "text": [
            "You have several options to travel from Tehran to Yazd:\n",
            "\n",
            "* **Train:**  This is a popular and generally comfortable option.  There are various classes available, including comfortable overnight sleeper trains. The journey takes about 6-8 hours.  You can book tickets online or at the train station.\n",
            "\n",
            "* **Bus:**  Buses are a more affordable option than trains, with frequent departures throughout the day and night.  VIP buses offer more comfortable seating and amenities. The bus journey takes around 6-7 hours.  Tickets can be purchased at bus terminals or online.\n",
            "\n",
            "* **Plane:**  Flying is the fastest way to get to Yazd, with a flight time of approximately 1 hour.  Yazd Airport (AZD) is located a short distance from the city center.  Consider the added time for airport transfers and check-in procedures.\n",
            "\n",
            "* **Private Car/Taxi:** Hiring a private car or taxi is the most expensive option but offers flexibility and door-to-door service. The drive takes about 6-7 hours.  You can arrange this through hotels or travel agencies, or by using ride-hailing apps.  Negotiate the fare beforehand.\n",
            "\n",
            "**Which option is best for you depends on your budget and travel style:**\n",
            "\n",
            "* **Budget travelers:** Bus is the most economical.\n",
            "* **Comfort and convenience:** Train or plane are good choices.\n",
            "* **Fastest option:** Plane is the quickest.\n",
            "* **Flexibility:** Private car/taxi offers the most control over your schedule.\n",
            "\n",
            "Remember to book your tickets in advance, especially during peak season.\n"
          ]
        }
      ]
    }
  ]
}