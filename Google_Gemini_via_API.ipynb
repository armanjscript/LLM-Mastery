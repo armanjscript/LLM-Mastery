{
  "nbformat": 4,
  "nbformat_minor": 0,
  "metadata": {
    "colab": {
      "provenance": [],
      "gpuType": "T4"
    },
    "kernelspec": {
      "name": "python3",
      "display_name": "Python 3"
    },
    "language_info": {
      "name": "python"
    },
    "accelerator": "GPU"
  },
  "cells": [
    {
      "cell_type": "code",
      "execution_count": 1,
      "metadata": {
        "colab": {
          "base_uri": "https://localhost:8080/"
        },
        "id": "Y6_5fp7PtMCi",
        "outputId": "f66cbeab-aa96-4034-9ddd-11e30c3b7c53"
      },
      "outputs": [
        {
          "output_type": "stream",
          "name": "stdout",
          "text": [
            "Requirement already satisfied: requests in /usr/local/lib/python3.11/dist-packages (2.32.3)\n",
            "Requirement already satisfied: charset-normalizer<4,>=2 in /usr/local/lib/python3.11/dist-packages (from requests) (3.4.1)\n",
            "Requirement already satisfied: idna<4,>=2.5 in /usr/local/lib/python3.11/dist-packages (from requests) (3.10)\n",
            "Requirement already satisfied: urllib3<3,>=1.21.1 in /usr/local/lib/python3.11/dist-packages (from requests) (2.3.0)\n",
            "Requirement already satisfied: certifi>=2017.4.17 in /usr/local/lib/python3.11/dist-packages (from requests) (2024.12.14)\n"
          ]
        }
      ],
      "source": [
        "!pip install requests"
      ]
    },
    {
      "cell_type": "code",
      "source": [
        "import os\n",
        "import requests\n",
        "from getpass import getpass\n",
        "import json"
      ],
      "metadata": {
        "id": "_slq5F84viN5"
      },
      "execution_count": 2,
      "outputs": []
    },
    {
      "cell_type": "code",
      "source": [
        "api_key = getpass(\"Enter your Google Gemini API key: \")\n",
        "os.environ[\"GEMINI_API_KEY\"] = api_key"
      ],
      "metadata": {
        "id": "3KNbDJfXvmiA"
      },
      "execution_count": null,
      "outputs": []
    },
    {
      "cell_type": "code",
      "source": [
        "api_url = \"https://generativelanguage.googleapis.com/v1/models/gemini-pro:generateContent\"  # Replace with the correct endpoint\n",
        "headers = {\n",
        "    \"Content-Type\": \"application/json\",\n",
        "    \"x-goog-api-key\": os.environ[\"GEMINI_API_KEY\"]\n",
        "}"
      ],
      "metadata": {
        "id": "4WpSw3M3vwEA"
      },
      "execution_count": 4,
      "outputs": []
    },
    {
      "cell_type": "code",
      "source": [
        "data = {\n",
        "    \"model\": \"models/gemini-pro\",  # Specify the model\n",
        "    \"contents\": [\n",
        "        {\n",
        "            \"role\": \"user\",  # Role of the user\n",
        "            \"parts\": [\n",
        "                {\n",
        "                    \"text\": \"The best countries for job opportunities\"  # Query\n",
        "                }\n",
        "            ]\n",
        "        }\n",
        "    ]\n",
        "}"
      ],
      "metadata": {
        "id": "aqGCJP3av6Ww"
      },
      "execution_count": 11,
      "outputs": []
    },
    {
      "cell_type": "code",
      "source": [
        "try:\n",
        "    response = requests.post(api_url, headers=headers, json=data)\n",
        "    response.raise_for_status()  # Raise an error for bad status codes\n",
        "    result = response.json()\n",
        "\n",
        "    # Extract and print the generated text\n",
        "    if \"candidates\" in result:\n",
        "        generated_text = result[\"candidates\"][0][\"content\"][\"parts\"][0][\"text\"]\n",
        "        print(\"Gemini Response:\\n\", generated_text)\n",
        "    else:\n",
        "        print(\"Error: No response from the model. Full API response:\", json.dumps(result, indent=2))\n",
        "except requests.exceptions.RequestException as e:\n",
        "    print(f\"Error making API request: {e}\")"
      ],
      "metadata": {
        "colab": {
          "base_uri": "https://localhost:8080/"
        },
        "id": "AIJ3pLjTv_VQ",
        "outputId": "4bc99f6b-c88b-486f-eb5a-c5537b8ed6aa"
      },
      "execution_count": 12,
      "outputs": [
        {
          "output_type": "stream",
          "name": "stdout",
          "text": [
            "Gemini Response:\n",
            " **Top Countries with the Highest Job Opportunities**\n",
            "\n",
            "**1. United States**\n",
            "* Strong economy with diverse industries\n",
            "* High demand for skilled workers in tech, healthcare, and finance\n",
            "* Ample opportunities for career advancement\n",
            "\n",
            "**2. Canada**\n",
            "* Stable economy with a growing tech sector\n",
            "* Government programs supporting immigration and job creation\n",
            "* High demand for skilled professionals in healthcare, finance, and engineering\n",
            "\n",
            "**3. Switzerland**\n",
            "* World-renowned financial center with numerous banking and insurance companies\n",
            "* Strong manufacturing and pharmaceutical industries\n",
            "* High standard of living and low unemployment rate\n",
            "\n",
            "**4. Netherlands**\n",
            "* Vibrant tech and startup scene in Amsterdam\n",
            "* Strong agricultural sector and major transportation hub\n",
            "* Known for its work-life balance and low unemployment\n",
            "\n",
            "**5. Germany**\n",
            "* Europe's largest economy with a strong manufacturing base\n",
            "* High demand for engineers, researchers, and skilled tradespeople\n",
            "* Strong emphasis on vocational training and apprenticeships\n",
            "\n",
            "**6. United Kingdom**\n",
            "* Global financial and business center in London\n",
            "* Strong healthcare, technology, and creative industries\n",
            "* High demand for skilled workers in finance, healthcare, and technology\n",
            "\n",
            "**7. Australia**\n",
            "* Booming mining and resources industry\n",
            "* Strong education system and highly skilled workforce\n",
            "* Government programs promoting innovation and entrepreneurship\n",
            "\n",
            "**8. France**\n",
            "* Leader in luxury goods, fashion, and aerospace\n",
            "* Strong tech sector and a growing startup ecosystem\n",
            "* High demand for engineers, healthcare professionals, and business leaders\n",
            "\n",
            "**9. Singapore**\n",
            "* Global financial and business hub in Southeast Asia\n",
            "* Strong economy with a rapidly growing tech industry\n",
            "* High demand for skilled professionals in finance, technology, and healthcare\n",
            "\n",
            "**10. Denmark**\n",
            "* Known for its high living standards and strong social safety net\n",
            "* Expanding technology and green energy sectors\n",
            "* High demand for engineers, nurses, and IT professionals\n"
          ]
        }
      ]
    }
  ]
}