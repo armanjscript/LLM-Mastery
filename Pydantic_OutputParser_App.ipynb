{
  "nbformat": 4,
  "nbformat_minor": 0,
  "metadata": {
    "colab": {
      "provenance": [],
      "gpuType": "T4"
    },
    "kernelspec": {
      "name": "python3",
      "display_name": "Python 3"
    },
    "language_info": {
      "name": "python"
    },
    "accelerator": "GPU"
  },
  "cells": [
    {
      "cell_type": "code",
      "execution_count": 1,
      "metadata": {
        "id": "Y6_5fp7PtMCi",
        "colab": {
          "base_uri": "https://localhost:8080/"
        },
        "outputId": "9a5371c6-5492-42d7-aaa9-69a2ae1dca1e"
      },
      "outputs": [
        {
          "output_type": "stream",
          "name": "stdout",
          "text": [
            "\u001b[?25l   \u001b[90m━━━━━━━━━━━━━━━━━━━━━━━━━━━━━━━━━━━━━━━━\u001b[0m \u001b[32m0.0/2.5 MB\u001b[0m \u001b[31m?\u001b[0m eta \u001b[36m-:--:--\u001b[0m\r\u001b[2K   \u001b[91m━━━━━━━━━━━━━━━━━━━━━━━━━━━━━━━━━━━━━━━\u001b[0m\u001b[91m╸\u001b[0m \u001b[32m2.5/2.5 MB\u001b[0m \u001b[31m130.6 MB/s\u001b[0m eta \u001b[36m0:00:01\u001b[0m\r\u001b[2K   \u001b[90m━━━━━━━━━━━━━━━━━━━━━━━━━━━━━━━━━━━━━━━━\u001b[0m \u001b[32m2.5/2.5 MB\u001b[0m \u001b[31m62.4 MB/s\u001b[0m eta \u001b[36m0:00:00\u001b[0m\n",
            "\u001b[2K   \u001b[90m━━━━━━━━━━━━━━━━━━━━━━━━━━━━━━━━━━━━━━━━\u001b[0m \u001b[32m41.7/41.7 kB\u001b[0m \u001b[31m4.1 MB/s\u001b[0m eta \u001b[36m0:00:00\u001b[0m\n",
            "\u001b[2K   \u001b[90m━━━━━━━━━━━━━━━━━━━━━━━━━━━━━━━━━━━━━━━━\u001b[0m \u001b[32m50.8/50.8 kB\u001b[0m \u001b[31m4.2 MB/s\u001b[0m eta \u001b[36m0:00:00\u001b[0m\n",
            "\u001b[?25h"
          ]
        }
      ],
      "source": [
        "# Step 1: Install required libraries\n",
        "!pip install -q langchain langchain-community langchain-google-genai google-generativeai pydantic"
      ]
    },
    {
      "cell_type": "code",
      "source": [
        "##Example of Pydantic\n",
        "# from pydantic import BaseModel, ValidationError\n",
        "\n",
        "# class User(BaseModel):\n",
        "#   name: str\n",
        "#   age: int\n",
        "#   email: str\n",
        "\n",
        "# try:\n",
        "#   user = User(name=\"Alice\", age=30, email=\"alice@gmail.com\")\n",
        "# except ValidationError as e:\n",
        "#   print(e)\n",
        "# print(user)"
      ],
      "metadata": {
        "colab": {
          "base_uri": "https://localhost:8080/"
        },
        "id": "qjRCEZYYElfp",
        "outputId": "08388751-aefe-45e0-b740-df99f35d87b3"
      },
      "execution_count": null,
      "outputs": [
        {
          "output_type": "stream",
          "name": "stdout",
          "text": [
            "name='Alice' age=30 email='alice@gmail.com'\n"
          ]
        }
      ]
    },
    {
      "cell_type": "code",
      "source": [
        "# Step 2: Import necessary modules\n",
        "from pydantic import BaseModel, Field\n",
        "from langchain_google_genai import ChatGoogleGenerativeAI\n",
        "from langchain_core.prompts import (\n",
        "    SystemMessagePromptTemplate,\n",
        "    HumanMessagePromptTemplate,\n",
        "    ChatPromptTemplate,\n",
        "    PromptTemplate\n",
        ")\n",
        "import json\n",
        "from langchain_core.output_parsers.pydantic import PydanticOutputParser\n",
        "import os\n",
        "import getpass"
      ],
      "metadata": {
        "id": "_slq5F84viN5"
      },
      "execution_count": 2,
      "outputs": []
    },
    {
      "cell_type": "code",
      "source": [
        "# Step 2: Creating Customized Output Parser\n",
        "class LanguageOutputStructure(BaseModel):\n",
        "  original_sentence: str = Field(description=\"Sentence asked by user\")\n",
        "  desired_language: str = Field(description=\"Desired language in which sentence to be translated\")\n",
        "  translated_sentence: str = Field(description=\"Translated sentence for a given sentence in given language\")"
      ],
      "metadata": {
        "id": "KRNE3ImrJPwS"
      },
      "execution_count": 3,
      "outputs": []
    },
    {
      "cell_type": "code",
      "source": [
        "parser = PydanticOutputParser(pydantic_object=LanguageOutputStructure)"
      ],
      "metadata": {
        "id": "Ad5tPYO8K4sj"
      },
      "execution_count": 4,
      "outputs": []
    },
    {
      "cell_type": "code",
      "source": [
        "system_prompt_template = PromptTemplate(\n",
        "    template = \"\"\"\\n{formatted_instructions}\\n You are a language translator. An English speaker wants to translate\n",
        "    {original_sentence} to {desired_language}. Tell him the correct answer.\"\"\",\n",
        "    input_variables=[\"original_sentence\", \"desired_language\"],\n",
        "    partial_variables={\"formatted_instructions\": parser.get_format_instructions()}\n",
        ")\n",
        "\n",
        "system_message_template = SystemMessagePromptTemplate(prompt=system_prompt_template)"
      ],
      "metadata": {
        "id": "O52g0lsgLM4I"
      },
      "execution_count": 5,
      "outputs": []
    },
    {
      "cell_type": "code",
      "source": [
        "user_prompt_template = PromptTemplate(\n",
        "    template = \"Translate {original_sentence} to {desired_language}\",\n",
        "    input_variables=[\"original_sentence\", \"desired_language\"]\n",
        ")\n",
        "\n",
        "user_message_template = HumanMessagePromptTemplate(prompt=user_prompt_template)"
      ],
      "metadata": {
        "id": "X6vssv58SepC"
      },
      "execution_count": 6,
      "outputs": []
    },
    {
      "cell_type": "code",
      "source": [
        "# Step 4: Set up your Google API key\n",
        "if \"GOOGLE_API_KEY\" not in os.environ:\n",
        "    os.environ[\"GOOGLE_API_KEY\"] = getpass.getpass(\"Enter your Google AI API key: \")"
      ],
      "metadata": {
        "id": "3KNbDJfXvmiA",
        "colab": {
          "base_uri": "https://localhost:8080/"
        },
        "outputId": "8d7a369d-2221-441f-d78d-1610afeedcc8"
      },
      "execution_count": 7,
      "outputs": [
        {
          "name": "stdout",
          "output_type": "stream",
          "text": [
            "Enter your Google AI API key: ··········\n"
          ]
        }
      ]
    },
    {
      "cell_type": "code",
      "source": [
        "# Step 5: Initialize the Gemini model\n",
        "chat_model = ChatGoogleGenerativeAI(model=\"gemini-1.5-pro\")  # Use 'gemini-pro' as the model"
      ],
      "metadata": {
        "id": "9AK0cv9oBWrj"
      },
      "execution_count": 8,
      "outputs": []
    },
    {
      "cell_type": "code",
      "source": [
        "chat_prompt_template = ChatPromptTemplate.from_messages([\n",
        "    system_message_template,\n",
        "    user_message_template\n",
        "])"
      ],
      "metadata": {
        "id": "1CwL44Wsp7j5"
      },
      "execution_count": 9,
      "outputs": []
    },
    {
      "cell_type": "code",
      "source": [
        "messages = chat_prompt_template.format_messages(original_sentence=\"I love pizza!\", desired_language=\"French\")"
      ],
      "metadata": {
        "id": "8cn2V_KXTXdh"
      },
      "execution_count": 10,
      "outputs": []
    },
    {
      "cell_type": "code",
      "source": [
        "chat_response_model = chat_model.invoke(messages)"
      ],
      "metadata": {
        "id": "DW1eMsemTzcQ"
      },
      "execution_count": 11,
      "outputs": []
    },
    {
      "cell_type": "code",
      "source": [
        "formatted_response = parser.invoke(chat_response_model)"
      ],
      "metadata": {
        "id": "O0cMJMuvUC6R"
      },
      "execution_count": 12,
      "outputs": []
    },
    {
      "cell_type": "code",
      "source": [
        "print(f\"Answer Type: {type(formatted_response)}\")\n",
        "print(formatted_response)"
      ],
      "metadata": {
        "id": "vhlTVWA6UP0g",
        "colab": {
          "base_uri": "https://localhost:8080/"
        },
        "outputId": "8065c988-d239-4480-951a-57cb1dc03f9a"
      },
      "execution_count": 13,
      "outputs": [
        {
          "output_type": "stream",
          "name": "stdout",
          "text": [
            "Answer Type: <class '__main__.LanguageOutputStructure'>\n",
            "original_sentence='I love pizza!' desired_language='French' translated_sentence=\"J'adore la pizza\\xa0!\"\n"
          ]
        }
      ]
    },
    {
      "cell_type": "code",
      "source": [
        "#Convert the formatted response to JSON for better readability\n",
        "json_output = formatted_response.json()\n",
        "output_dict = json.loads(json_output)"
      ],
      "metadata": {
        "id": "A8gDgikYUitD",
        "colab": {
          "base_uri": "https://localhost:8080/"
        },
        "outputId": "ad232a8b-f704-4db6-bea6-17a01b6a8409"
      },
      "execution_count": 14,
      "outputs": [
        {
          "output_type": "stream",
          "name": "stderr",
          "text": [
            "<ipython-input-14-3c537226a7e1>:2: PydanticDeprecatedSince20: The `json` method is deprecated; use `model_dump_json` instead. Deprecated in Pydantic V2.0 to be removed in V3.0. See Pydantic V2 Migration Guide at https://errors.pydantic.dev/2.10/migration/\n",
            "  json_output = formatted_response.json()\n"
          ]
        }
      ]
    },
    {
      "cell_type": "code",
      "source": [
        "print(f\"Answer: {output_dict}\")"
      ],
      "metadata": {
        "id": "JgTmbYCRVDjT",
        "colab": {
          "base_uri": "https://localhost:8080/"
        },
        "outputId": "18777ba5-7a43-42d8-e7aa-1ba66de05fb4"
      },
      "execution_count": 15,
      "outputs": [
        {
          "output_type": "stream",
          "name": "stdout",
          "text": [
            "Answer: {'original_sentence': 'I love pizza!', 'desired_language': 'French', 'translated_sentence': \"J'adore la pizza\\xa0!\"}\n"
          ]
        }
      ]
    }
  ]
}