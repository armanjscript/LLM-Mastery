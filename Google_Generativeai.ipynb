{
  "nbformat": 4,
  "nbformat_minor": 0,
  "metadata": {
    "colab": {
      "provenance": [],
      "gpuType": "T4"
    },
    "kernelspec": {
      "name": "python3",
      "display_name": "Python 3"
    },
    "language_info": {
      "name": "python"
    },
    "accelerator": "GPU"
  },
  "cells": [
    {
      "cell_type": "code",
      "execution_count": 1,
      "metadata": {
        "id": "Y6_5fp7PtMCi"
      },
      "outputs": [],
      "source": [
        "!pip install -q --upgrade google-generativeai"
      ]
    },
    {
      "cell_type": "code",
      "source": [
        "import google.generativeai as genai\n",
        "from getpass import getpass\n",
        "import os"
      ],
      "metadata": {
        "id": "_slq5F84viN5"
      },
      "execution_count": 2,
      "outputs": []
    },
    {
      "cell_type": "code",
      "source": [
        "api_key = getpass(\"Enter your Google Gemini API key: \")\n",
        "os.environ[\"GOOGLE_API_KEY\"] = api_key\n",
        "genai.configure(api_key=os.environ[\"GOOGLE_API_KEY\"])"
      ],
      "metadata": {
        "id": "3KNbDJfXvmiA",
        "colab": {
          "base_uri": "https://localhost:8080/"
        },
        "outputId": "129ddfc5-6c48-4ec4-ca27-ef4fbcb80ecb"
      },
      "execution_count": 3,
      "outputs": [
        {
          "name": "stdout",
          "output_type": "stream",
          "text": [
            "Enter your Google Gemini API key: ··········\n"
          ]
        }
      ]
    },
    {
      "cell_type": "code",
      "source": [
        "try:\n",
        "    model = genai.GenerativeModel('gemini-pro')  # Use 'gemini-pro' for text-based tasks\n",
        "    print(\"Gemini model initialized successfully.\")\n",
        "except Exception as e:\n",
        "    print(f\"Error initializing Gemini model: {e}\")"
      ],
      "metadata": {
        "id": "4WpSw3M3vwEA",
        "colab": {
          "base_uri": "https://localhost:8080/"
        },
        "outputId": "2be1decd-6248-4fe2-e68d-b7e674485095"
      },
      "execution_count": 4,
      "outputs": [
        {
          "output_type": "stream",
          "name": "stdout",
          "text": [
            "Gemini model initialized successfully.\n"
          ]
        }
      ]
    },
    {
      "cell_type": "code",
      "source": [
        "def query_gemini(prompt):\n",
        "    try:\n",
        "        response = model.generate_content(prompt)\n",
        "        return response.text\n",
        "    except Exception as e:\n",
        "        return f\"Error: {e}\""
      ],
      "metadata": {
        "id": "aqGCJP3av6Ww"
      },
      "execution_count": 5,
      "outputs": []
    },
    {
      "cell_type": "code",
      "source": [
        "prompt = \"The best countries for job opportunities\"\n",
        "response = query_gemini(prompt)\n",
        "print(\"Gemini Response:\\n\", response)"
      ],
      "metadata": {
        "colab": {
          "base_uri": "https://localhost:8080/",
          "height": 419
        },
        "id": "AIJ3pLjTv_VQ",
        "outputId": "d03ad04f-6059-45ce-fb66-ec166ee5ef8a"
      },
      "execution_count": 6,
      "outputs": [
        {
          "output_type": "stream",
          "name": "stdout",
          "text": [
            "Gemini Response:\n",
            " **Top Countries for Job Opportunities in 2023**\n",
            "\n",
            "1. **United States:** A leading hub for technology, finance, manufacturing, and healthcare, offering a diverse range of job opportunities for skilled professionals.\n",
            "\n",
            "2. **Canada:** Known for its strong economy, stable political environment, and high quality of life, Canada offers ample job opportunities in various sectors including healthcare, education, and technology.\n",
            "\n",
            "3. **Germany:** A powerhouse in manufacturing, engineering, and automotive sectors, Germany provides excellent job prospects for highly skilled workers in these fields.\n",
            "\n",
            "4. **Switzerland:** A global center for finance, pharmaceuticals, and watchmaking, Switzerland offers high-paying job opportunities with excellent benefits and work-life balance.\n",
            "\n",
            "5. **United Kingdom:** A traditional economic powerhouse, the UK remains a top destination for job seekers in finance, technology, and healthcare.\n",
            "\n",
            "6. **Netherlands:** A highly developed economy with a strong focus on innovation and entrepreneurship, the Netherlands offers attractive job opportunities in technology, design, and renewable energy.\n",
            "\n",
            "7. **Sweden:** Known for its strong social welfare system and emphasis on work-life balance, Sweden provides a supportive environment for employees and offers job opportunities in sectors such as engineering, healthcare, and manufacturing.\n",
            "\n",
            "8. **Australia:** A rapidly growing economy with a high demand for skilled workers, Australia offers job opportunities in various industries including mining, tourism, and healthcare.\n",
            "\n",
            "9. **Japan:** A highly advanced economy with a strong emphasis on technology and innovation, Japan offers job opportunities in fields such as robotics, electronics, and manufacturing.\n",
            "\n",
            "10. **Singapore:** A financial and business hub in Southeast Asia, Singapore provides excellent job prospects in finance, technology, and healthcare.\n"
          ]
        }
      ]
    }
  ]
}