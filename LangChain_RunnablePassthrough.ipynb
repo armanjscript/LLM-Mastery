{
  "nbformat": 4,
  "nbformat_minor": 0,
  "metadata": {
    "colab": {
      "provenance": [],
      "gpuType": "T4"
    },
    "kernelspec": {
      "name": "python3",
      "display_name": "Python 3"
    },
    "language_info": {
      "name": "python"
    },
    "accelerator": "GPU"
  },
  "cells": [
    {
      "cell_type": "code",
      "execution_count": 1,
      "metadata": {
        "id": "Y6_5fp7PtMCi",
        "colab": {
          "base_uri": "https://localhost:8080/"
        },
        "outputId": "f3f13087-df31-4c34-989c-b0c3b3fd9116"
      },
      "outputs": [
        {
          "output_type": "stream",
          "name": "stdout",
          "text": [
            "\u001b[?25l   \u001b[90m━━━━━━━━━━━━━━━━━━━━━━━━━━━━━━━━━━━━━━━━\u001b[0m \u001b[32m0.0/2.5 MB\u001b[0m \u001b[31m?\u001b[0m eta \u001b[36m-:--:--\u001b[0m\r\u001b[2K   \u001b[90m━━━━━━━━━━━━━━━━━━━━━━━━━━━━━━━━━━━━━━━━\u001b[0m \u001b[32m2.5/2.5 MB\u001b[0m \u001b[31m71.3 MB/s\u001b[0m eta \u001b[36m0:00:00\u001b[0m\n",
            "\u001b[?25h\u001b[?25l   \u001b[90m━━━━━━━━━━━━━━━━━━━━━━━━━━━━━━━━━━━━━━━━\u001b[0m \u001b[32m0.0/50.8 kB\u001b[0m \u001b[31m?\u001b[0m eta \u001b[36m-:--:--\u001b[0m\r\u001b[2K   \u001b[90m━━━━━━━━━━━━━━━━━━━━━━━━━━━━━━━━━━━━━━━━\u001b[0m \u001b[32m50.8/50.8 kB\u001b[0m \u001b[31m4.6 MB/s\u001b[0m eta \u001b[36m0:00:00\u001b[0m\n",
            "\u001b[?25h"
          ]
        }
      ],
      "source": [
        "!pip install -q langchain langchain-community"
      ]
    },
    {
      "cell_type": "code",
      "source": [
        "from langchain_core.runnables import RunnablePassthrough"
      ],
      "metadata": {
        "id": "hYyF4tQtqgft"
      },
      "execution_count": 2,
      "outputs": []
    },
    {
      "cell_type": "code",
      "source": [
        "messages = [\"Hello\", \"How are you?\", \"Goodbye\"]\n",
        "\n",
        "input_transformer = RunnablePassthrough()\n",
        "\n",
        "def convert_to_uppercase(messges):\n",
        "  return [msg.upper() for msg in messages]\n",
        "\n",
        "chain = input_transformer | convert_to_uppercase"
      ],
      "metadata": {
        "id": "7tLIS1HyquBd"
      },
      "execution_count": 3,
      "outputs": []
    },
    {
      "cell_type": "code",
      "source": [
        "response = chain.invoke(messages)\n",
        "print(response)"
      ],
      "metadata": {
        "colab": {
          "base_uri": "https://localhost:8080/"
        },
        "id": "3nQY3i5Dr0S2",
        "outputId": "c40bec25-108b-44da-f4f5-0a8fde48c03d"
      },
      "execution_count": 4,
      "outputs": [
        {
          "output_type": "stream",
          "name": "stdout",
          "text": [
            "['HELLO', 'HOW ARE YOU?', 'GOODBYE']\n"
          ]
        }
      ]
    },
    {
      "cell_type": "markdown",
      "source": [
        "**Another Example**"
      ],
      "metadata": {
        "id": "DWFWppcRs--t"
      }
    },
    {
      "cell_type": "code",
      "source": [
        "def convert_to_uppercase(sentences):\n",
        "  return [sentence.upper() for sentence in sentences]\n",
        "\n",
        "def filter_sentences(sentences, forbidden_words):\n",
        "  return[sentence for sentence in sentences if not any(word in sentence for word in forbidden_words)]\n",
        "\n",
        "def count_words(sentences):\n",
        "  return [len(sentence.split()) for sentence in sentences]\n",
        "\n",
        "def filter_out_forbidden_words(sentences):\n",
        "  forbidden_words = [\"SECRET\", \"SUNNY\"]\n",
        "  return filter_sentences(sentences, forbidden_words)"
      ],
      "metadata": {
        "id": "jZWGYam6tCr2"
      },
      "execution_count": 10,
      "outputs": []
    },
    {
      "cell_type": "code",
      "source": [
        "sentences = [\n",
        "    \"The quick brown fox jumpes over the lazy dog.\",\n",
        "    \"Hello world!\",\n",
        "    \"Python is an amazing programming language.\",\n",
        "    \"The weather is sunny today.\",\n",
        "    \"This is a secret message\"\n",
        "]"
      ],
      "metadata": {
        "id": "IkDowx8IvL23"
      },
      "execution_count": 6,
      "outputs": []
    },
    {
      "cell_type": "code",
      "source": [
        "input_transformer = RunnablePassthrough()\n",
        "\n",
        "chain = (\n",
        "    input_transformer\n",
        "    | convert_to_uppercase\n",
        "    | filter_out_forbidden_words\n",
        "    | count_words\n",
        ")"
      ],
      "metadata": {
        "id": "YmU1mwekvzq3"
      },
      "execution_count": 11,
      "outputs": []
    },
    {
      "cell_type": "code",
      "source": [
        "result = chain.invoke(sentences)\n",
        "print(\"Word counts after processing:\", result)"
      ],
      "metadata": {
        "colab": {
          "base_uri": "https://localhost:8080/"
        },
        "id": "pRuisTx-wmy3",
        "outputId": "6da294a5-2a49-4fda-eb8b-9fdc9c84da1d"
      },
      "execution_count": 12,
      "outputs": [
        {
          "output_type": "stream",
          "name": "stdout",
          "text": [
            "Word counts after processing: [9, 2, 6]\n"
          ]
        }
      ]
    }
  ]
}