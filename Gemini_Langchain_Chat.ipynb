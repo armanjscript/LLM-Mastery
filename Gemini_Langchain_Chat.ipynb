{
  "nbformat": 4,
  "nbformat_minor": 0,
  "metadata": {
    "colab": {
      "provenance": [],
      "gpuType": "T4"
    },
    "kernelspec": {
      "name": "python3",
      "display_name": "Python 3"
    },
    "language_info": {
      "name": "python"
    },
    "accelerator": "GPU"
  },
  "cells": [
    {
      "cell_type": "code",
      "execution_count": 1,
      "metadata": {
        "id": "Y6_5fp7PtMCi",
        "colab": {
          "base_uri": "https://localhost:8080/"
        },
        "outputId": "d84bbe7a-efa5-48aa-ad58-ec3e5a554546"
      },
      "outputs": [
        {
          "output_type": "stream",
          "name": "stdout",
          "text": [
            "\u001b[?25l   \u001b[90m━━━━━━━━━━━━━━━━━━━━━━━━━━━━━━━━━━━━━━━━\u001b[0m \u001b[32m0.0/2.5 MB\u001b[0m \u001b[31m?\u001b[0m eta \u001b[36m-:--:--\u001b[0m\r\u001b[2K   \u001b[91m━━━━━━━━━━━━━━━━━━\u001b[0m\u001b[91m╸\u001b[0m\u001b[90m━━━━━━━━━━━━━━━━━━━━━\u001b[0m \u001b[32m1.2/2.5 MB\u001b[0m \u001b[31m37.4 MB/s\u001b[0m eta \u001b[36m0:00:01\u001b[0m\r\u001b[2K   \u001b[91m━━━━━━━━━━━━━━━━━━━━━━━━━━━━━━━━━━━━━━━\u001b[0m\u001b[91m╸\u001b[0m \u001b[32m2.5/2.5 MB\u001b[0m \u001b[31m41.6 MB/s\u001b[0m eta \u001b[36m0:00:01\u001b[0m\r\u001b[2K   \u001b[90m━━━━━━━━━━━━━━━━━━━━━━━━━━━━━━━━━━━━━━━━\u001b[0m \u001b[32m2.5/2.5 MB\u001b[0m \u001b[31m29.7 MB/s\u001b[0m eta \u001b[36m0:00:00\u001b[0m\n",
            "\u001b[?25h\u001b[?25l   \u001b[90m━━━━━━━━━━━━━━━━━━━━━━━━━━━━━━━━━━━━━━━━\u001b[0m \u001b[32m0.0/1.0 MB\u001b[0m \u001b[31m?\u001b[0m eta \u001b[36m-:--:--\u001b[0m\r\u001b[2K   \u001b[90m━━━━━━━━━━━━━━━━━━━━━━━━━━━━━━━━━━━━━━━━\u001b[0m \u001b[32m1.0/1.0 MB\u001b[0m \u001b[31m31.3 MB/s\u001b[0m eta \u001b[36m0:00:00\u001b[0m\n",
            "\u001b[2K   \u001b[90m━━━━━━━━━━━━━━━━━━━━━━━━━━━━━━━━━━━━━━━━\u001b[0m \u001b[32m41.7/41.7 kB\u001b[0m \u001b[31m2.1 MB/s\u001b[0m eta \u001b[36m0:00:00\u001b[0m\n",
            "\u001b[2K   \u001b[90m━━━━━━━━━━━━━━━━━━━━━━━━━━━━━━━━━━━━━━━━\u001b[0m \u001b[32m412.2/412.2 kB\u001b[0m \u001b[31m19.5 MB/s\u001b[0m eta \u001b[36m0:00:00\u001b[0m\n",
            "\u001b[2K   \u001b[90m━━━━━━━━━━━━━━━━━━━━━━━━━━━━━━━━━━━━━━━━\u001b[0m \u001b[32m50.8/50.8 kB\u001b[0m \u001b[31m2.9 MB/s\u001b[0m eta \u001b[36m0:00:00\u001b[0m\n",
            "\u001b[?25h"
          ]
        }
      ],
      "source": [
        "# Step 1: Install required libraries\n",
        "!pip install -q langchain google-generativeai langchain-community langchain-google-genai"
      ]
    },
    {
      "cell_type": "code",
      "source": [
        "# Step 2: Import necessary modules\n",
        "from langchain_google_genai import ChatGoogleGenerativeAI\n",
        "from langchain_core.messages import SystemMessage, HumanMessage\n",
        "from langchain_core.output_parsers import StrOutputParser\n",
        "import os\n",
        "import getpass"
      ],
      "metadata": {
        "id": "_slq5F84viN5"
      },
      "execution_count": 9,
      "outputs": []
    },
    {
      "cell_type": "code",
      "source": [
        "# Step 3: Set up your Google API key\n",
        "if \"GOOGLE_API_KEY\" not in os.environ:\n",
        "    os.environ[\"GOOGLE_API_KEY\"] = getpass.getpass(\"Enter your Google AI API key: \")"
      ],
      "metadata": {
        "id": "3KNbDJfXvmiA",
        "colab": {
          "base_uri": "https://localhost:8080/"
        },
        "outputId": "fe171e00-9592-4394-c6a6-a6d542894188"
      },
      "execution_count": 10,
      "outputs": [
        {
          "name": "stdout",
          "output_type": "stream",
          "text": [
            "Enter your Google AI API key: ··········\n"
          ]
        }
      ]
    },
    {
      "cell_type": "code",
      "source": [
        "# Step 4: Initialize the Gemini model\n",
        "chat_model = ChatGoogleGenerativeAI(model=\"gemini-1.5-pro\")  # Use 'gemini-pro' as the model"
      ],
      "metadata": {
        "id": "35t0MH-zhief"
      },
      "execution_count": 11,
      "outputs": []
    },
    {
      "cell_type": "code",
      "source": [
        "messages = [\n",
        "    SystemMessage(content=\"You are as a helpful assistant, skilled in explaining everything in an easy manner and understandable\"),\n",
        "    HumanMessage(content=\"What is cloud computing? expalin it for me as a elementary person in this field\")\n",
        "]"
      ],
      "metadata": {
        "id": "pBeOELlogjXV"
      },
      "execution_count": 12,
      "outputs": []
    },
    {
      "cell_type": "code",
      "source": [
        "response = chat_model.invoke(messages)\n",
        "print(response)"
      ],
      "metadata": {
        "id": "4WpSw3M3vwEA",
        "colab": {
          "base_uri": "https://localhost:8080/"
        },
        "outputId": "5a08dbf2-b1a7-4107-f2ee-49f9178daac2"
      },
      "execution_count": 13,
      "outputs": [
        {
          "output_type": "stream",
          "name": "stdout",
          "text": [
            "content='Imagine a magical, invisible library in the sky that holds all sorts of information, games, and tools.  That\\'s kind of what \"the cloud\" is in cloud computing!  \\n\\nInstead of storing everything on your own computer (like your pictures, videos, or even the programs you use), you can store them in this giant, shared \"library\" on the internet.  \\n\\nHere\\'s how it works:\\n\\n1. **You have your device:** This could be your phone, tablet, or computer.  Think of it as your library card.\\n2. **The Cloud:** This is the giant library in the sky.  Lots of powerful computers store information there.\\n3. **The Internet:** This is the road that connects your device (library card) to the cloud (library).\\n\\nSo, when you use cloud computing, you\\'re basically asking the library in the sky for something.  For example:\\n\\n* **Storing photos:**  Instead of keeping all your pictures on your phone, you can upload them to the cloud.  This frees up space on your phone, and you can access the photos from any device connected to the internet.\\n* **Playing games:** Some games are played in the cloud.  This means the game runs on the powerful computers in the cloud, and you just see the game on your screen.  You don\\'t need a super powerful computer to play!\\n* **Using programs:**  You can use programs like word processors or email programs that live in the cloud.  You don\\'t have to install them on your computer, and you can access them from anywhere.\\n\\nThe cool thing about the cloud is that it\\'s like having a superpower! You can access your stuff from anywhere, you don\\'t have to worry about losing it if your computer breaks, and you can often share it with others easily.' additional_kwargs={} response_metadata={'prompt_feedback': {'block_reason': 0, 'safety_ratings': []}, 'finish_reason': 'STOP', 'safety_ratings': []} id='run-5a32bc80-2f5d-4ce8-9f45-913dc5c175b5-0' usage_metadata={'input_tokens': 35, 'output_tokens': 385, 'total_tokens': 420, 'input_token_details': {'cache_read': 0}}\n"
          ]
        }
      ]
    },
    {
      "cell_type": "code",
      "source": [
        "parser = StrOutputParser()\n",
        "response = parser.invoke(response)\n",
        "print(response)"
      ],
      "metadata": {
        "id": "aqGCJP3av6Ww",
        "colab": {
          "base_uri": "https://localhost:8080/"
        },
        "outputId": "3b77f696-bece-4be5-cdd3-8a4cd76a7888"
      },
      "execution_count": 14,
      "outputs": [
        {
          "output_type": "stream",
          "name": "stdout",
          "text": [
            "Imagine a magical, invisible library in the sky that holds all sorts of information, games, and tools.  That's kind of what \"the cloud\" is in cloud computing!  \n",
            "\n",
            "Instead of storing everything on your own computer (like your pictures, videos, or even the programs you use), you can store them in this giant, shared \"library\" on the internet.  \n",
            "\n",
            "Here's how it works:\n",
            "\n",
            "1. **You have your device:** This could be your phone, tablet, or computer.  Think of it as your library card.\n",
            "2. **The Cloud:** This is the giant library in the sky.  Lots of powerful computers store information there.\n",
            "3. **The Internet:** This is the road that connects your device (library card) to the cloud (library).\n",
            "\n",
            "So, when you use cloud computing, you're basically asking the library in the sky for something.  For example:\n",
            "\n",
            "* **Storing photos:**  Instead of keeping all your pictures on your phone, you can upload them to the cloud.  This frees up space on your phone, and you can access the photos from any device connected to the internet.\n",
            "* **Playing games:** Some games are played in the cloud.  This means the game runs on the powerful computers in the cloud, and you just see the game on your screen.  You don't need a super powerful computer to play!\n",
            "* **Using programs:**  You can use programs like word processors or email programs that live in the cloud.  You don't have to install them on your computer, and you can access them from anywhere.\n",
            "\n",
            "The cool thing about the cloud is that it's like having a superpower! You can access your stuff from anywhere, you don't have to worry about losing it if your computer breaks, and you can often share it with others easily.\n"
          ]
        }
      ]
    }
  ]
}