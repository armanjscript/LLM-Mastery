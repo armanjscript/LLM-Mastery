{
  "nbformat": 4,
  "nbformat_minor": 0,
  "metadata": {
    "colab": {
      "provenance": [],
      "gpuType": "T4"
    },
    "kernelspec": {
      "name": "python3",
      "display_name": "Python 3"
    },
    "language_info": {
      "name": "python"
    },
    "accelerator": "GPU"
  },
  "cells": [
    {
      "cell_type": "code",
      "execution_count": 1,
      "metadata": {
        "id": "Y6_5fp7PtMCi",
        "colab": {
          "base_uri": "https://localhost:8080/"
        },
        "outputId": "3886c061-3215-425a-acfa-7346ecfaffb8"
      },
      "outputs": [
        {
          "output_type": "stream",
          "name": "stdout",
          "text": [
            "\u001b[?25l   \u001b[90m━━━━━━━━━━━━━━━━━━━━━━━━━━━━━━━━━━━━━━━━\u001b[0m \u001b[32m0.0/2.5 MB\u001b[0m \u001b[31m?\u001b[0m eta \u001b[36m-:--:--\u001b[0m\r\u001b[2K   \u001b[91m━━━━━━━━━━━━━━━━━━━━\u001b[0m\u001b[91m╸\u001b[0m\u001b[90m━━━━━━━━━━━━━━━━━━━\u001b[0m \u001b[32m1.3/2.5 MB\u001b[0m \u001b[31m38.6 MB/s\u001b[0m eta \u001b[36m0:00:01\u001b[0m\r\u001b[2K   \u001b[90m━━━━━━━━━━━━━━━━━━━━━━━━━━━━━━━━━━━━━━━━\u001b[0m \u001b[32m2.5/2.5 MB\u001b[0m \u001b[31m38.5 MB/s\u001b[0m eta \u001b[36m0:00:00\u001b[0m\n",
            "\u001b[?25h\u001b[?25l   \u001b[90m━━━━━━━━━━━━━━━━━━━━━━━━━━━━━━━━━━━━━━━━\u001b[0m \u001b[32m0.0/41.7 kB\u001b[0m \u001b[31m?\u001b[0m eta \u001b[36m-:--:--\u001b[0m\r\u001b[2K   \u001b[90m━━━━━━━━━━━━━━━━━━━━━━━━━━━━━━━━━━━━━━━━\u001b[0m \u001b[32m41.7/41.7 kB\u001b[0m \u001b[31m3.2 MB/s\u001b[0m eta \u001b[36m0:00:00\u001b[0m\n",
            "\u001b[?25h\u001b[?25l   \u001b[90m━━━━━━━━━━━━━━━━━━━━━━━━━━━━━━━━━━━━━━━━\u001b[0m \u001b[32m0.0/50.8 kB\u001b[0m \u001b[31m?\u001b[0m eta \u001b[36m-:--:--\u001b[0m\r\u001b[2K   \u001b[90m━━━━━━━━━━━━━━━━━━━━━━━━━━━━━━━━━━━━━━━━\u001b[0m \u001b[32m50.8/50.8 kB\u001b[0m \u001b[31m3.9 MB/s\u001b[0m eta \u001b[36m0:00:00\u001b[0m\n",
            "\u001b[?25h"
          ]
        }
      ],
      "source": [
        "# Step 1: Install required libraries\n",
        "!pip install -q langchain langchain-community langchain-google-genai google-generativeai"
      ]
    },
    {
      "cell_type": "code",
      "source": [
        "# Step 2: Import necessary modules\n",
        "from langchain_google_genai import ChatGoogleGenerativeAI\n",
        "from langchain_core.prompts import (\n",
        "    SystemMessagePromptTemplate,\n",
        "    HumanMessagePromptTemplate,\n",
        "    ChatPromptTemplate,\n",
        "    FewShotChatMessagePromptTemplate,\n",
        "    PromptTemplate\n",
        ")\n",
        "from langchain_core.output_parsers import StrOutputParser\n",
        "import os\n",
        "import getpass"
      ],
      "metadata": {
        "id": "_slq5F84viN5"
      },
      "execution_count": 6,
      "outputs": []
    },
    {
      "cell_type": "code",
      "source": [
        "# Step 3: Set up your Google API key\n",
        "if \"GOOGLE_API_KEY\" not in os.environ:\n",
        "    os.environ[\"GOOGLE_API_KEY\"] = getpass.getpass(\"Enter your Google AI API key: \")"
      ],
      "metadata": {
        "id": "3KNbDJfXvmiA",
        "colab": {
          "base_uri": "https://localhost:8080/"
        },
        "outputId": "2a86f7d4-f29c-4664-dbe8-b24ac9ddaaf5"
      },
      "execution_count": 3,
      "outputs": [
        {
          "name": "stdout",
          "output_type": "stream",
          "text": [
            "Enter your Google AI API key: ··········\n"
          ]
        }
      ]
    },
    {
      "cell_type": "code",
      "source": [
        "# Step 4: Initialize the Gemini model\n",
        "chat_model = ChatGoogleGenerativeAI(model=\"gemini-1.5-pro\")  # Use 'gemini-pro' as the model"
      ],
      "metadata": {
        "id": "9AK0cv9oBWrj"
      },
      "execution_count": 4,
      "outputs": []
    },
    {
      "cell_type": "code",
      "source": [
        "system_prompt_template = PromptTemplate(\n",
        "    template = \"You are a travel expert helping to find efficient and comfortable way of travelling from point A to point B.\"\n",
        ")\n",
        "\n",
        "system_message_template = SystemMessagePromptTemplate(prompt=system_prompt_template)"
      ],
      "metadata": {
        "id": "aPZEXRWMXihZ"
      },
      "execution_count": 7,
      "outputs": []
    },
    {
      "cell_type": "code",
      "source": [
        "user_prompt_template = PromptTemplate(\n",
        "    template = \"how to reach {target} from {source}?\",\n",
        "    input_variables=[\"source\", \"target\"]\n",
        ")\n",
        "\n",
        "user_message_template = HumanMessagePromptTemplate(prompt=user_prompt_template)"
      ],
      "metadata": {
        "id": "aUwWflz0Gmfb"
      },
      "execution_count": 9,
      "outputs": []
    },
    {
      "cell_type": "code",
      "source": [
        "chat_prompt_template = ChatPromptTemplate.from_messages([\n",
        "    system_message_template,\n",
        "    user_message_template\n",
        "])"
      ],
      "metadata": {
        "id": "9oVXmVZBPxIB"
      },
      "execution_count": 10,
      "outputs": []
    },
    {
      "cell_type": "code",
      "source": [
        "user_input_source = \"Isfahan\" # @param{type: \"string\"}"
      ],
      "metadata": {
        "id": "cvCa9QnpLEBH"
      },
      "execution_count": 11,
      "outputs": []
    },
    {
      "cell_type": "code",
      "source": [
        "user_input_target = \"Tehran\" # @param{type: \"string\"}"
      ],
      "metadata": {
        "id": "_rYKKSm_LoAf"
      },
      "execution_count": 12,
      "outputs": []
    },
    {
      "cell_type": "code",
      "source": [
        "messages = chat_prompt_template.format_messages(source=user_input_source, target=user_input_target)"
      ],
      "metadata": {
        "id": "uMDwHl6pQl5Z"
      },
      "execution_count": 13,
      "outputs": []
    },
    {
      "cell_type": "code",
      "source": [
        "chat_model_response= chat_model.invoke(messages)"
      ],
      "metadata": {
        "id": "4ibcbxwvR91q"
      },
      "execution_count": 14,
      "outputs": []
    },
    {
      "cell_type": "code",
      "source": [
        "parser = StrOutputParser()\n",
        "response = parser.invoke(chat_model_response)"
      ],
      "metadata": {
        "id": "bsW9cnRaOK_5"
      },
      "execution_count": 15,
      "outputs": []
    },
    {
      "cell_type": "code",
      "source": [
        "print(response)"
      ],
      "metadata": {
        "colab": {
          "base_uri": "https://localhost:8080/"
        },
        "id": "ZJErz7V6SHcw",
        "outputId": "dc8d72bc-f340-472a-b776-7b306d9dcbf1"
      },
      "execution_count": 16,
      "outputs": [
        {
          "output_type": "stream",
          "name": "stdout",
          "text": [
            "You have several options for traveling from Isfahan to Tehran:\n",
            "\n",
            "**1. By Plane:**\n",
            "\n",
            "* **Pros:** Fastest option, taking around 1 hour.  Several airlines operate this route, including Iran Air, Mahan Air, and Zagros Airlines.\n",
            "* **Cons:** Most expensive option. You need to factor in travel time to/from the airports and security checks.\n",
            "* **Recommendation:**  Book in advance, especially during peak season, for better prices. Check online travel agencies like Expedia, Kayak, or Skyscanner for deals.\n",
            "\n",
            "**2. By Train:**\n",
            "\n",
            "* **Pros:** Comfortable and relatively affordable. Offers scenic views of the Iranian landscape. Overnight trains can save on hotel costs.\n",
            "* **Cons:**  Slower than flying, taking around 5-6 hours.  Might not be as frequent as buses.\n",
            "* **Recommendation:**  Check the Raja Passenger Train Company website (raja.ir) for schedules and booking.  Consider a first-class sleeper car for a more comfortable journey.\n",
            "\n",
            "**3. By Bus:**\n",
            "\n",
            "* **Pros:** Most affordable option. Frequent departures from Isfahan's Kaveh Terminal.  VIP buses offer more comfortable seating and amenities.\n",
            "* **Cons:** Longest travel time, taking around 6-7 hours. Can be crowded, especially during peak seasons.\n",
            "* **Recommendation:**  Book tickets in advance, especially for VIP buses.  Several bus companies operate this route, so compare prices and services.  Consider an overnight bus to save on accommodation costs.\n",
            "\n",
            "**4. By Private Car/Taxi:**\n",
            "\n",
            "* **Pros:**  Flexibility and convenience, especially if traveling with a group.  Door-to-door service.\n",
            "* **Cons:**  Most expensive option after flying.  Traffic can be a concern, particularly on weekends or holidays.\n",
            "* **Recommendation:** Negotiate the fare beforehand.  Consider using ride-hailing apps like Snapp (Iranian version of Uber/Lyft) but check availability for intercity trips.  Ensure the driver is licensed and insured.\n",
            "\n",
            "\n",
            "**Which option is best for you depends on your priorities:**\n",
            "\n",
            "* **Budget travelers:** Bus is the most economical choice.\n",
            "* **Time-conscious travelers:** Flying is the quickest way to get to Tehran.\n",
            "* **Comfort seekers:** Train or a VIP bus offers a good balance of comfort and affordability.\n",
            "* **Groups or families:** A private car might be more convenient, although more expensive.\n",
            "\n",
            "**Before you travel:**\n",
            "\n",
            "* **Check visa requirements:** Ensure you have the necessary visa for Iran.\n",
            "* **Currency:**  Iranian Rial (IRR) is the official currency.  Credit cards are generally not accepted, so have enough cash.\n",
            "* **Language:** Persian is the official language.  While English is spoken in tourist areas, learning a few basic Persian phrases will be helpful.\n",
            "\n",
            "\n",
            "No matter which mode of transport you choose, enjoy your trip from Isfahan to Tehran!\n"
          ]
        }
      ]
    }
  ]
}
