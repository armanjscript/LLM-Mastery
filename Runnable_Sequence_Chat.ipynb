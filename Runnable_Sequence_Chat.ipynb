{
  "nbformat": 4,
  "nbformat_minor": 0,
  "metadata": {
    "colab": {
      "provenance": [],
      "gpuType": "T4"
    },
    "kernelspec": {
      "name": "python3",
      "display_name": "Python 3"
    },
    "language_info": {
      "name": "python"
    },
    "accelerator": "GPU"
  },
  "cells": [
    {
      "cell_type": "code",
      "execution_count": 1,
      "metadata": {
        "id": "Y6_5fp7PtMCi",
        "colab": {
          "base_uri": "https://localhost:8080/"
        },
        "outputId": "4d80e056-9435-4a00-c28b-42e31daa9e14"
      },
      "outputs": [
        {
          "output_type": "stream",
          "name": "stdout",
          "text": [
            "\u001b[?25l   \u001b[90m━━━━━━━━━━━━━━━━━━━━━━━━━━━━━━━━━━━━━━━━\u001b[0m \u001b[32m0.0/2.5 MB\u001b[0m \u001b[31m?\u001b[0m eta \u001b[36m-:--:--\u001b[0m\r\u001b[2K   \u001b[90m━━━━━━━━━━━━━━━━━━━━━━━━━━━━━━━━━━━━━━━━\u001b[0m \u001b[32m2.5/2.5 MB\u001b[0m \u001b[31m86.1 MB/s\u001b[0m eta \u001b[36m0:00:00\u001b[0m\n",
            "\u001b[?25h\u001b[?25l   \u001b[90m━━━━━━━━━━━━━━━━━━━━━━━━━━━━━━━━━━━━━━━━\u001b[0m \u001b[32m0.0/1.0 MB\u001b[0m \u001b[31m?\u001b[0m eta \u001b[36m-:--:--\u001b[0m\r\u001b[2K   \u001b[90m━━━━━━━━━━━━━━━━━━━━━━━━━━━━━━━━━━━━━━━━\u001b[0m \u001b[32m1.0/1.0 MB\u001b[0m \u001b[31m58.3 MB/s\u001b[0m eta \u001b[36m0:00:00\u001b[0m\n",
            "\u001b[2K   \u001b[90m━━━━━━━━━━━━━━━━━━━━━━━━━━━━━━━━━━━━━━━━\u001b[0m \u001b[32m41.7/41.7 kB\u001b[0m \u001b[31m3.6 MB/s\u001b[0m eta \u001b[36m0:00:00\u001b[0m\n",
            "\u001b[2K   \u001b[90m━━━━━━━━━━━━━━━━━━━━━━━━━━━━━━━━━━━━━━━━\u001b[0m \u001b[32m109.6/109.6 kB\u001b[0m \u001b[31m10.7 MB/s\u001b[0m eta \u001b[36m0:00:00\u001b[0m\n",
            "\u001b[2K   \u001b[90m━━━━━━━━━━━━━━━━━━━━━━━━━━━━━━━━━━━━━━━━\u001b[0m \u001b[32m412.4/412.4 kB\u001b[0m \u001b[31m33.3 MB/s\u001b[0m eta \u001b[36m0:00:00\u001b[0m\n",
            "\u001b[2K   \u001b[90m━━━━━━━━━━━━━━━━━━━━━━━━━━━━━━━━━━━━━━━━\u001b[0m \u001b[32m50.8/50.8 kB\u001b[0m \u001b[31m3.4 MB/s\u001b[0m eta \u001b[36m0:00:00\u001b[0m\n",
            "\u001b[?25h"
          ]
        }
      ],
      "source": [
        "!pip install -q langchain langchain-community langchain-groq"
      ]
    },
    {
      "cell_type": "code",
      "source": [
        "from langchain_core.runnables import RunnableLambda\n",
        "from langchain_core.runnables.base import RunnableSequence\n",
        "import re\n",
        "from langchain_groq import ChatGroq\n",
        "import os\n",
        "import getpass\n",
        "import time"
      ],
      "metadata": {
        "id": "wAQnZKBBUCOA"
      },
      "execution_count": 2,
      "outputs": []
    },
    {
      "cell_type": "code",
      "source": [
        "if \"GROQ_API_KEY\" not in os.environ:\n",
        "    os.environ[\"GROQ_API_KEY\"] = getpass.getpass(\"Enter your GROQ API key: \")"
      ],
      "metadata": {
        "colab": {
          "base_uri": "https://localhost:8080/"
        },
        "id": "vmRTz1ITUMlg",
        "outputId": "b4b017bb-1607-4e00-ec77-b6c5bfee96df"
      },
      "execution_count": 3,
      "outputs": [
        {
          "name": "stdout",
          "output_type": "stream",
          "text": [
            "Enter your GROQ API key: ··········\n"
          ]
        }
      ]
    },
    {
      "cell_type": "code",
      "source": [
        "def clean_text(text):\n",
        "  #Remove special characters and normalize whitespace\n",
        "  cleaned_text = re.sub(r'[^A-Za-z0-9\\s]', '', text)\n",
        "  return re.sub(r'\\s+', ' ', cleaned_text).strip()\n",
        "\n",
        "def transform_text(cleaned_text):\n",
        "  #Convert text to uppercase for standardization\n",
        "  return cleaned_text.upper()\n",
        "\n",
        "def gemini_sentiment_analysis(text):\n",
        "\n",
        "  chat_model = ChatGroq(model_name=\"gemma2-9b-it\")\n",
        "\n",
        "  prompt = f\"Analyze the sentiment of the following text and classify it as positive, negative, or neutral:\\n{text}\"\n",
        "\n",
        "  response = chat_model.invoke(prompt)\n",
        "  sentiment = response.content.strip().lower()\n",
        "\n",
        "  return {\"text\": text, \"sentiment\": sentiment}\n",
        "\n",
        "def aggregate_sentiments(sentiment_results):\n",
        "  summary = {'positive': 0, 'negative': 0, 'neutral': 0}\n",
        "  for result in sentiment_results:\n",
        "    if result['sentiment'] in summary:\n",
        "      summary[result['sentiment']] += 1\n",
        "\n",
        "  return summary"
      ],
      "metadata": {
        "id": "KRNE3ImrJPwS"
      },
      "execution_count": 14,
      "outputs": []
    },
    {
      "cell_type": "code",
      "source": [
        "runnable_clean = RunnableLambda(lambda texts: [clean_text(text) for text in texts])\n",
        "runnable_transform = RunnableLambda(lambda cleaned_texts: [transform_text(text) for text in cleaned_texts])\n",
        "runnable_sentiment = RunnableLambda(lambda transformed_texts: [gemini_sentiment_analysis(text) for text in transformed_texts])\n",
        "# runnable_aggregate = RunnableLambda(aggregate_sentiments)"
      ],
      "metadata": {
        "id": "ciH27sxQW_lh"
      },
      "execution_count": 15,
      "outputs": []
    },
    {
      "cell_type": "code",
      "source": [
        "review_analysis_pipeline = RunnableSequence(\n",
        "    first = runnable_clean,\n",
        "    middle = [runnable_transform],\n",
        "    last = runnable_sentiment\n",
        ")"
      ],
      "metadata": {
        "id": "e3K4tL7HYVo4"
      },
      "execution_count": 16,
      "outputs": []
    },
    {
      "cell_type": "code",
      "source": [
        "reviews = [\n",
        "    \"The product quality is excellent and the service was awesome!\",\n",
        "    \"Very poor experience, the product was bad and delivery was horrible.\",\n",
        "    \"Good value for money, but could be better.\",\n",
        "    \"I had a bad experience, but the customer support was good.\",\n",
        "    \"This is the best product I've ever bought!\"\n",
        "]"
      ],
      "metadata": {
        "id": "bkO73yN5YtK7"
      },
      "execution_count": 17,
      "outputs": []
    },
    {
      "cell_type": "code",
      "source": [
        "result = review_analysis_pipeline.invoke(reviews)\n",
        "print(result)"
      ],
      "metadata": {
        "id": "NHhMRPH1ZwKJ",
        "colab": {
          "base_uri": "https://localhost:8080/"
        },
        "outputId": "09cf0ab1-831c-496e-bb54-2c906ea9c150"
      },
      "execution_count": 19,
      "outputs": [
        {
          "output_type": "stream",
          "name": "stdout",
          "text": [
            "[{'text': 'THE PRODUCT QUALITY IS EXCELLENT AND THE SERVICE WAS AWESOME', 'sentiment': 'the sentiment of the text is **strongly positive**. \\n\\nhere\\'s why:\\n\\n* **\"excellent\"** is a highly positive adjective.\\n* **\"awesome\"** is a very strong positive term.\\n\\nthe use of these words clearly expresses a high level of satisfaction with both the product and the service. \\n\\n\\nlet me know if you have any other text you\\'d like me to analyze!'}, {'text': 'VERY POOR EXPERIENCE THE PRODUCT WAS BAD AND DELIVERY WAS HORRIBLE', 'sentiment': 'the sentiment of the text is **negative**. \\n\\nhere\\'s why:\\n\\n* **strong negative words:**  \"very poor experience\", \"bad\", and \"horrible\" all express strong dissatisfaction and negativity.\\n* **lack of positive sentiment:** there are no words or phrases that convey any positive feelings or experiences.\\n\\n\\nthe text clearly expresses a very negative opinion about both the product and the delivery service.'}, {'text': 'GOOD VALUE FOR MONEY BUT COULD BE BETTER', 'sentiment': 'the sentiment of the text \"good value for money but could be better\" is **mixed**. \\n\\nhere\\'s why:\\n\\n* **\"good value for money\"** expresses a positive sentiment, indicating satisfaction with the price relative to the quality.\\n* **\"but could be better\"** introduces a negative sentiment, suggesting room for improvement. \\n\\noverall, the text conveys a feeling of cautious optimism. while the product is considered good value, there are perceived shortcomings that prevent it from being truly excellent.'}, {'text': 'I HAD A BAD EXPERIENCE BUT THE CUSTOMER SUPPORT WAS GOOD', 'sentiment': 'the sentiment of the text is **mixed**. \\n\\nhere\\'s why:\\n\\n* **\"i had a bad experience\"** expresses a negative sentiment.\\n* **\"but the customer support was good\"** expresses a positive sentiment.\\n\\nthe presence of \"but\" indicates a contrast between the two sentiments.  therefore, while there was a negative experience, the positive interaction with customer support mitigates the overall negativity. \\n\\n\\nit wouldn\\'t be accurate to classify this text as purely positive or negative.'}, {'text': 'THIS IS THE BEST PRODUCT IVE EVER BOUGHT', 'sentiment': 'the sentiment of the text is **strongly positive**. \\n\\nhere\\'s why:\\n\\n* **superlative language:**  \"best product i\\'ve ever bought\" expresses an extremely high level of satisfaction.\\n* **exclamation point:**  the use of an exclamation point emphasizes the positive feeling.\\n\\n\\nlet me know if you have any other text you\\'d like me to analyze!'}]\n"
          ]
        }
      ]
    }
  ]
}